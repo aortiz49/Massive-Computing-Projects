{
 "cells": [
  {
   "cell_type": "markdown",
   "metadata": {},
   "source": [
    "# First Practical Work\n",
    "\n",
    "## Data Science and Engineering\n",
    "\n",
    "### DESIGN OF AN IMAGE FILTER FUNCTION, PARALLELIZABLE AND SCALABLE"
   ]
  },
  {
   "cell_type": "markdown",
   "metadata": {},
   "source": [
    "**Full name:** RAUL MALLO ALONSO\n",
    "    \n",
    "**NIA** :** 100429745"
   ]
  },
  {
   "cell_type": "code",
   "execution_count": 92,
   "metadata": {},
   "outputs": [],
   "source": [
    "import numpy as np\n",
    "import multiprocessing as mp\n",
    "from multiprocessing.sharedctypes import Array\n",
    "from PIL import Image\n",
    "import matplotlib.pyplot as plt\n",
    "import matplotlib.image as mpimg\n",
    "import cProfile\n",
    "import ctypes\n",
    "import functions as my "
   ]
  },
  {
   "cell_type": "code",
   "execution_count": 63,
   "metadata": {},
   "outputs": [],
   "source": [
    "F_IMAGE1=\"chess.jpg\" #<DEFINE HERE WHICH IMAGE YOU WANTS TO LOAD\n",
    "F_IMAGE2=\"digits.jpg\" #<DEFINE HERE WHICH IMAGE YOU WANTS TO LOAD"
   ]
  },
  {
   "cell_type": "code",
   "execution_count": 64,
   "metadata": {},
   "outputs": [],
   "source": [
    "image1= np.array(Image.open(F_IMAGE1))\n",
    "image2= np.array(Image.open(F_IMAGE1))"
   ]
  },
  {
   "cell_type": "code",
   "execution_count": 82,
   "metadata": {},
   "outputs": [],
   "source": [
    "filter1=np.array([\n",
    "    [0,0,0,0,0],\n",
    "    [0,0,0,0,0],\n",
    "    [0,0,1,0,0],\n",
    "    [0,0,0,0,0],\n",
    "    [0,0,0,0,0]\n",
    "])\n",
    "filter2=np.array([0.5, 0 , -0.5])\n",
    "filter3=np.array([[0.5],[0],[0.5]])\n",
    "\n",
    "filter4=np.array([\n",
    "    [1,0,-1],\n",
    "    [2,0,-2],\n",
    "    [1,0,-1]\n",
    "])\n",
    "filter5=np.array([\n",
    "    [0.00078633,0.00655965,0.01330373,0.00655965,0.00078633],\n",
    "    [0.00655965,0.05472157,0.11098164,0.05472157,0.00655965],\n",
    "    [0.01330373,0.11098164,0.22508352,0.11098164,0.01330373],\n",
    "    [0.00655965,0.05472157,0.11098164,0.05472157,0.00655965],\n",
    "    [0.00078633,0.00655965,0.01330373,0.00655965,0.00078633]\n",
    "])\n",
    "filter6=np.array([0.5, 0 ,0,0, -0.5])\n",
    "filter7=np.array([[0.5],[0],[0],[0],[0.5]])\n"
   ]
  },
  {
   "cell_type": "code",
   "execution_count": null,
   "metadata": {},
   "outputs": [],
   "source": []
  },
  {
   "cell_type": "code",
   "execution_count": 66,
   "metadata": {},
   "outputs": [],
   "source": [
    "def tonumpyarray(mp_arr):\n",
    "    #mp_array is a shared memory array with lock\n",
    "    \n",
    "    return np.frombuffer(mp_arr.get_obj(),dtype=np.uint8)"
   ]
  },
  {
   "cell_type": "code",
   "execution_count": 67,
   "metadata": {},
   "outputs": [],
   "source": [
    "#HERE YOU HAVE TO DEFINE THE MULTIPROCESSING VECTOR FOR IMAGE1\n",
    "data_buffer1_size=image1.shape[0]*image1.shape[1]*image1.shape[2]\n",
    "shared_space1= Array(ctypes.c_byte,data_buffer1_size)\n",
    "\n",
    "#HERE YOU HAVE TO DEFINE THE MULTIPROCESSING VECTOR FOR IMAGE2\n",
    "data_buffer2_size=image2.shape[0]*image2.shape[1]*image2.shape[2]\n",
    "shared_space2= Array(ctypes.c_byte,data_buffer2_size)"
   ]
  },
  {
   "cell_type": "code",
   "execution_count": null,
   "metadata": {},
   "outputs": [],
   "source": []
  },
  {
   "cell_type": "markdown",
   "metadata": {},
   "source": [
    "Here it's defined the function 'filters_execution', that will open two different processes and perform one filter in each one of them:"
   ]
  },
  {
   "cell_type": "code",
   "execution_count": 68,
   "metadata": {},
   "outputs": [],
   "source": [
    "def filters_execution(image,filter1,filter2,numprocessors,shared_space1,shared_space2):\n",
    "    # creates a lock to handle memory access\n",
    "    lock = mp.Lock()\n",
    "\n",
    "    # define and start the processes\n",
    "    p1 = mp.Process(target=my.image_filter,args=(image,filter1,numprocessors,shared_space1))\n",
    "    p2 = mp.Process(target=my.image_filter,args=(image,filter2,numprocessors,shared_space2))\n",
    "\n",
    "    p1.start()\n",
    "    p2.start()\n",
    "\n",
    "    # wait until the processes have ended\n",
    "    p1.join()\n",
    "    p2.join()"
   ]
  },
  {
   "cell_type": "code",
   "execution_count": null,
   "metadata": {},
   "outputs": [],
   "source": []
  },
  {
   "cell_type": "markdown",
   "metadata": {},
   "source": [
    "# AFTER THIS CELL YOU HAVE TO WRITE YOUR CODE\n",
    "\n",
    "After this cell you have to use the preloaded image defined in the F_IMAGE variable, select two of the 5 filter predefined, and using the NUMPROCESS processors, apply the filters to the image and check results.\n",
    "\n",
    "* The first filter is impulse response filter (the image output must be equals to the original one).\n",
    "* The second filter is an edge filter, first order in x axis,  \n",
    "* The third filter is an edge filter, first order in y axis,\n",
    "* the fourth filter is an edge filter, second order, bi-directional\n",
    "* the fifth filter is a blur gausian filter."
   ]
  },
  {
   "cell_type": "code",
   "execution_count": null,
   "metadata": {},
   "outputs": [],
   "source": []
  },
  {
   "cell_type": "markdown",
   "metadata": {},
   "source": [
    "Just for me to try Andy, I will check if the code works with the images chess and digits (smaller ones), that will be included in this repository, and the different filters to see if everything is okay or not. "
   ]
  },
  {
   "cell_type": "code",
   "execution_count": 93,
   "metadata": {},
   "outputs": [
    {
     "name": "stdout",
     "output_type": "stream",
     "text": [
      "4\n"
     ]
    },
    {
     "name": "stderr",
     "output_type": "stream",
     "text": [
      "Process Process-34:\n",
      "multiprocessing.pool.RemoteTraceback: \n",
      "\"\"\"\n",
      "Traceback (most recent call last):\n",
      "  File \"/usr/local/Cellar/python@3.9/3.9.1_8/Frameworks/Python.framework/Versions/3.9/lib/python3.9/multiprocessing/pool.py\", line 125, in worker\n",
      "    result = (True, func(*args, **kwds))\n",
      "  File \"/usr/local/Cellar/python@3.9/3.9.1_8/Frameworks/Python.framework/Versions/3.9/lib/python3.9/multiprocessing/pool.py\", line 48, in mapstar\n",
      "    return list(map(*args))\n",
      "  File \"/Users/renegade/MyRepos/Massive-Computing-Projects/project1-image_filter/functions.py\", line 85, in columned_filter\n",
      "    res_row[i, d] = int((pp_row[i, d] * my_filter[4] + p_row[i, d] * my_filter[3] +\n",
      "TypeError: only size-1 arrays can be converted to Python scalars\n",
      "\"\"\"\n",
      "\n",
      "The above exception was the direct cause of the following exception:\n",
      "\n",
      "Traceback (most recent call last):\n",
      "  File \"/usr/local/Cellar/python@3.9/3.9.1_8/Frameworks/Python.framework/Versions/3.9/lib/python3.9/multiprocessing/process.py\", line 315, in _bootstrap\n",
      "    self.run()\n",
      "  File \"/usr/local/Cellar/python@3.9/3.9.1_8/Frameworks/Python.framework/Versions/3.9/lib/python3.9/multiprocessing/process.py\", line 108, in run\n",
      "    self._target(*self._args, **self._kwargs)\n",
      "  File \"/Users/renegade/MyRepos/Massive-Computing-Projects/project1-image_filter/functions.py\", line 26, in image_filter\n",
      "    p.map(columned_filter, rows)\n",
      "  File \"/usr/local/Cellar/python@3.9/3.9.1_8/Frameworks/Python.framework/Versions/3.9/lib/python3.9/multiprocessing/pool.py\", line 364, in map\n",
      "    return self._map_async(func, iterable, mapstar, chunksize).get()\n",
      "  File \"/usr/local/Cellar/python@3.9/3.9.1_8/Frameworks/Python.framework/Versions/3.9/lib/python3.9/multiprocessing/pool.py\", line 771, in get\n",
      "    raise self._value\n",
      "TypeError: only size-1 arrays can be converted to Python scalars\n"
     ]
    }
   ],
   "source": [
    "numprocessors= int(mp.cpu_count()/2)\n",
    "print(numprocessors)\n",
    "filters_execution(image1,filter5,filter7,numprocessors,shared_space1,shared_space2)"
   ]
  },
  {
   "cell_type": "code",
   "execution_count": 33,
   "metadata": {},
   "outputs": [
    {
     "name": "stdout",
     "output_type": "stream",
     "text": [
      "[[[0 0 0]\n",
      "  [0 0 0]\n",
      "  [0 0 0]\n",
      "  ...\n",
      "  [0 0 0]\n",
      "  [0 0 0]\n",
      "  [0 0 0]]\n",
      "\n",
      " [[0 0 0]\n",
      "  [0 0 0]\n",
      "  [0 0 0]\n",
      "  ...\n",
      "  [0 0 0]\n",
      "  [0 0 0]\n",
      "  [0 0 0]]\n",
      "\n",
      " [[0 0 0]\n",
      "  [0 0 0]\n",
      "  [0 0 0]\n",
      "  ...\n",
      "  [0 0 0]\n",
      "  [0 0 0]\n",
      "  [0 0 0]]\n",
      "\n",
      " ...\n",
      "\n",
      " [[0 0 0]\n",
      "  [0 0 0]\n",
      "  [0 0 0]\n",
      "  ...\n",
      "  [0 0 0]\n",
      "  [0 0 0]\n",
      "  [0 0 0]]\n",
      "\n",
      " [[0 0 0]\n",
      "  [0 0 0]\n",
      "  [0 0 0]\n",
      "  ...\n",
      "  [0 0 0]\n",
      "  [0 0 0]\n",
      "  [0 0 0]]\n",
      "\n",
      " [[0 0 0]\n",
      "  [0 0 0]\n",
      "  [0 0 0]\n",
      "  ...\n",
      "  [0 0 0]\n",
      "  [0 0 0]\n",
      "  [0 0 0]]]\n"
     ]
    }
   ],
   "source": []
  },
  {
   "cell_type": "markdown",
   "metadata": {},
   "source": [
    "# Visualization\n",
    "In this last cells we take the filtered images stored in the multiprocessing.Vector variables filtered_image1_VECTOR and filtered_image2_VECTOR, converts to numpy array, with the same shape of the orginal images, and show the results."
   ]
  },
  {
   "cell_type": "code",
   "execution_count": 86,
   "metadata": {},
   "outputs": [],
   "source": [
    "filtered_image1=tonumpyarray(shared_space1).reshape(image1.shape)\n",
    "filtered_image2=tonumpyarray(shared_space2).reshape(image2.shape)"
   ]
  },
  {
   "cell_type": "code",
   "execution_count": 87,
   "metadata": {},
   "outputs": [
    {
     "data": {
      "text/plain": [
       "<matplotlib.image.AxesImage at 0x11b4c6100>"
      ]
     },
     "execution_count": 87,
     "metadata": {},
     "output_type": "execute_result"
    },
    {
     "data": {
      "image/png": "[encoded data removed]",
      "text/plain": [
       "<Figure size 432x288 with 1 Axes>"
      ]
     },
     "metadata": {
      "needs_background": "light"
     },
     "output_type": "display_data"
    }
   ],
   "source": [
    "plt.figure()\n",
    "plt.imshow(filtered_image1)"
   ]
  },
  {
   "cell_type": "code",
   "execution_count": 88,
   "metadata": {},
   "outputs": [
    {
     "data": {
      "text/plain": [
       "<matplotlib.image.AxesImage at 0x11b50fc40>"
      ]
     },
     "execution_count": 88,
     "metadata": {},
     "output_type": "execute_result"
    },
    {
     "data": {
      "image/png": "[encoded data removed]",
      "text/plain": [
       "<Figure size 432x288 with 1 Axes>"
      ]
     },
     "metadata": {
      "needs_background": "light"
     },
     "output_type": "display_data"
    }
   ],
   "source": [
    "plt.figure()\n",
    "plt.imshow(filtered_image2)"
   ]
  },
  {
   "cell_type": "code",
   "execution_count": 37,
   "metadata": {},
   "outputs": [
    {
     "name": "stdout",
     "output_type": "stream",
     "text": [
      "[ 0.  1.  2.  3.  4.  5.  6.  7.  8.  9. 10. 11. 12. 13. 14. 15.]\n"
     ]
    },
    {
     "data": {
      "text/plain": [
       "16"
      ]
     },
     "execution_count": 37,
     "metadata": {},
     "output_type": "execute_result"
    }
   ],
   "source": [
    "matrix= np.zeros([4,4])\n",
    "l= 0\n",
    "for i in range(4):\n",
    "    for j in range(4): \n",
    "        matrix[i,j]= l\n",
    "        l= l+1\n",
    "\n",
    "\n",
    "\n",
    "vector= np.asarray(matrix).ravel()\n",
    "print(vector)\n",
    "len(vector)"
   ]
  }
 ],
 "metadata": {
  "kernelspec": {
   "display_name": "Python 3 (ipykernel)",
   "language": "python",
   "name": "python3"
  },
  "language_info": {
   "codemirror_mode": {
    "name": "ipython",
    "version": 3
   },
   "file_extension": ".py",
   "mimetype": "text/x-python",
   "name": "python",
   "nbconvert_exporter": "python",
   "pygments_lexer": "ipython3",
   "version": "3.9.1"
  }
 },
 "nbformat": 4,
 "nbformat_minor": 4
}
