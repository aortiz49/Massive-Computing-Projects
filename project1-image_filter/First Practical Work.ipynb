{
 "cells": [
  {
   "cell_type": "markdown",
   "metadata": {},
   "source": [
    "# First Practical Work\n",
    "\n",
    "## Data Science and Engineering\n",
    "\n",
    "### DESIGN OF AN IMAGE FILTER FUNCTION, PARALLELIZABLE AND SCALABLE"
   ]
  },
  {
   "cell_type": "markdown",
   "metadata": {},
   "source": [
    "**Full name:** RAUL MALLO ALONSO\n",
    "    \n",
    "**NIA** : 100429745"
   ]
  },
  {
   "cell_type": "code",
   "execution_count": 1,
   "metadata": {},
   "outputs": [],
   "source": [
    "import numpy as np\n",
    "import multiprocessing as mp\n",
    "from multiprocessing.sharedctypes import Array\n",
    "from PIL import Image\n",
    "import matplotlib.pyplot as plt\n",
    "import matplotlib.image as mpimg\n",
    "import cProfile\n",
    "import ctypes\n",
    "import functions as my "
   ]
  },
  {
   "cell_type": "markdown",
   "metadata": {},
   "source": [
    "# Introduction #\n",
    "\n",
    "The proposed assignment for the First Practical Work consists in the implementation of a filtermask to an image applying the tools provided by the multiprocessing library in function learned in class. \n",
    "\n",
    "Precisely, the procedure that will be followed throughout this assignment demonstrates that this features and tricks can be used in combination one with another to extract the best performance possible with the resources available. \n",
    "\n",
    "# Procedure # \n",
    "\n",
    "The first step will be to initialize two parallel processes running at the same time on the computer. Each one of the different processes will count with half the total computational capability of the computer, as the totallity of the cores will be splited in two, one half per process. \n",
    "\n",
    "Once each parallel process has been started, its goal is to implement the specified filter to the given image. This is done by using another one of the tools learned throughout the class, the multiprocessing Pool method. This method was created in order to optimize SIMD (single instruction, multiple data) operations within environments in theory though for working in series. This Pool method requires of several cores to be done, and will be in charge of applying the filter to several rows of the image simultaneously (one row each filter at one time).  \n",
    "\n",
    "In order to securelly and optimally carrying out this assignment, apart from the ones specified other resources seen in class will be necessary, this is for example the case of the Shared Memory objects and utilities, such as global memories to ease the access to the information, o Locks, to avoid overridding problems when working with several processes in parallel. \n",
    "\n",
    "# Predefinition of the program code implementation # \n",
    "\n",
    "To carry out the task mentioned above, the first step is to define several variables and functions that are key for the program and will be used in the following."
   ]
  },
  {
   "cell_type": "markdown",
   "metadata": {},
   "source": [
    "In the first place, the image will be loaded from the repository into the program and then transformed into a numpy array in order to ease the process of working with it. By the structions given for the students, this image may have several layers (either one or three), which will be crucial to be taken into account later when defining the functions that will be used. "
   ]
  },
  {
   "cell_type": "code",
   "execution_count": 2,
   "metadata": {},
   "outputs": [],
   "source": [
    "F_IMAGE=\"chess.jpg\"                        #<DEFINE HERE WHICH IMAGE YOU WANTS TO LOAD"
   ]
  },
  {
   "cell_type": "code",
   "execution_count": null,
   "metadata": {},
   "outputs": [],
   "source": [
    "image= np.array(Image.open(F_IMAGE))"
   ]
  },
  {
   "cell_type": "markdown",
   "metadata": {},
   "source": [
    "The next step is defining several filters to ensure that the algorithm implemented is valid and ensure that no subtle mistake or typo is impeding the code from working  properly. The first five filters (filter1-filter5) were given with the statement, however another two additional ones known as filter6 and filter7 were thought in order to be able to test at least one filter for each possible size of them.  "
   ]
  },
  {
   "cell_type": "code",
   "execution_count": 4,
   "metadata": {},
   "outputs": [],
   "source": [
    "filter1=np.array([\n",
    "    [0,0,0,0,0],\n",
    "    [0,0,0,0,0],\n",
    "    [0,0,1,0,0],\n",
    "    [0,0,0,0,0],\n",
    "    [0,0,0,0,0]\n",
    "])\n",
    "filter2=np.array([0.5, 0 , -0.5])\n",
    "filter3=np.array([[0.5],[0],[0.5]])\n",
    "\n",
    "filter4=np.array([\n",
    "    [1,0,-1],\n",
    "    [2,0,-2],\n",
    "    [1,0,-1]\n",
    "])\n",
    "filter5=np.array([\n",
    "    [0.00078633,0.00655965,0.01330373,0.00655965,0.00078633],\n",
    "    [0.00655965,0.05472157,0.11098164,0.05472157,0.00655965],\n",
    "    [0.01330373,0.11098164,0.22508352,0.11098164,0.01330373],\n",
    "    [0.00655965,0.05472157,0.11098164,0.05472157,0.00655965],\n",
    "    [0.00078633,0.00655965,0.01330373,0.00655965,0.00078633]\n",
    "])"
   ]
  },
  {
   "cell_type": "code",
   "execution_count": 5,
   "metadata": {},
   "outputs": [],
   "source": [
    "filter6=np.array([0.5, 0 ,0,0, -0.5])\n",
    "filter7=np.array([[0.5],[0],[0],[0],[0.5]])"
   ]
  },
  {
   "cell_type": "markdown",
   "metadata": {},
   "source": [
    "Also, in order to ease the process of working with shared memories and in order to be able to read them as general matrices and arrays, the function @tonumpyarray(mp_arr) is created. This function transforms the mp_arr parameter introduced as imput into an ordinary numpy array with the same dimensions as the parameter. "
   ]
  },
  {
   "cell_type": "code",
   "execution_count": 6,
   "metadata": {},
   "outputs": [],
   "source": [
    "def tonumpyarray(mp_arr):\n",
    "    #mp_array is a shared memory array with lock\n",
    "    \n",
    "    return np.frombuffer(mp_arr.get_obj(),dtype=np.uint8)"
   ]
  },
  {
   "cell_type": "markdown",
   "metadata": {},
   "source": [
    "Also, before starting with the different filter functions, it is neccessary to define and preallocate the shared memory objects that will store the rsult of the filtering process once it is finished. During its implementation, the different cores will write directly on them, and later they will be recalled into the main program to see the result of the computations. \n",
    "\n",
    "This shared arrays will be in the form of vectors, and will be able to contain as much information as the original image (same number of pixels) so that they are defined as follows: "
   ]
  },
  {
   "cell_type": "code",
   "execution_count": 7,
   "metadata": {},
   "outputs": [],
   "source": [
    "# first we need to obtain the total number of pixels that are stored in the image: \n",
    "data_buffer_size=image.shape[0]*image.shape[1]*image.shape[2]\n",
    "\n",
    "# and then create two shared memory arrays with such size \n",
    "shared_space1= Array(ctypes.c_byte,data_buffer1_size)\n",
    "shared_space2= Array(ctypes.c_byte,data_buffer1_size)"
   ]
  },
  {
   "cell_type": "markdown",
   "metadata": {},
   "source": [
    "Notice that as two filters will be applied to the same image, and will give diffeent results, each one of them must be stored into its own shared space, otherwise the information of one (or both) of them would be lost or misunderstood. "
   ]
  },
  {
   "cell_type": "markdown",
   "metadata": {},
   "source": [
    "# Functions for the assignment # \n",
    "\n",
    "Once the general data has been set, it is neccessary to define the gross of the functions that will carry out the task explained before. All the functions that will be seen before (with the exception of @filters_execution( ... ) ) are defined in the 'functions.py' document attached in the folder, and will be called from there once they are needed. "
   ]
  },
  {
   "cell_type": "markdown",
   "metadata": {},
   "source": [
    "In the first place, it is the function @filters_execution. This is the first one to be called, and the outermost one, it means, the most global one.  It will open two different processes and perform one filter in each one of them. Furthermore, it will wait until both processes are finished before exiting the function, so no information is lost, or avoid leaving when any operation is not finished."
   ]
  },
  {
   "cell_type": "code",
   "execution_count": 8,
   "metadata": {},
   "outputs": [],
   "source": [
    "def filters_execution(image,filter1,filter2,numprocessors,shared_space1,shared_space2):\n",
    "    '''\n",
    "        This function will generate the two different processes that will be in charge of applying one different\n",
    "        filter (specified in the parameters) each one of them. \n",
    "\n",
    "        :param image: the image that will be filtered as a numpy array (either bi or tridimensional)\n",
    "        :param filter1: the first filter that will be applied to the image. Consists in a 2D numpy array.\n",
    "        :param filter2: idem. but for the second filter implementation. Shall in theory be different from filter1. \n",
    "        :param numprocessors: integer that represents half the total number of cores (or the desired number of \n",
    "                              cores that will be available for each independent process)\n",
    "        :param shared_space1:  the pre-initialization of the shared vector containing the result of the filter.\n",
    "                                Shared Memory Array (vector) for the first filter application.\n",
    "        :param shared_space1:  idem. for the second vector application. \n",
    "\n",
    "        :return: the result of this vector will be stored into the shared memory, so no output is needed to be \n",
    "                 specified.\n",
    "\n",
    "        '''\n",
    "    # creates a lock to handle memory access\n",
    "    lock = mp.Lock()\n",
    "\n",
    "    # define and start the processes\n",
    "    p1 = mp.Process(target=my.image_filter,args=(image,filter1,numprocessors,shared_space1))\n",
    "    p2 = mp.Process(target=my.image_filter,args=(image,filter2,numprocessors,shared_space2))\n",
    "\n",
    "    p1.start()\n",
    "    p2.start()\n",
    "\n",
    "    # wait until the processes have ended\n",
    "    p1.join()\n",
    "    p2.join()"
   ]
  },
  {
   "cell_type": "markdown",
   "metadata": {},
   "source": [
    "In the second place we can find the function @image_filter. This function is expected to be called twice, once by each filter, and will be the one implemented in parallel. It has to apply the desired filter to the given image by using the Pool method. Due to the fact that the filters have different dimentions, each one of them will have a different algorithm to be programmed, so the function @image_filter should also be able to define which is the most suitable function for the desired filter, and pass it as an input when calling the Pools. It works in the following way: "
   ]
  },
  {
   "cell_type": "code",
   "execution_count": null,
   "metadata": {},
   "outputs": [],
   "source": [
    "# Do not need to be defined, as it will not be called from here. \n",
    "\n",
    "def image_filter(p_image, p_filter, p_numprocessors, p_shared_space):\n",
    "    '''\n",
    "    This function will initilialize a pool which will run the chosen filter into the specified image.\n",
    "\n",
    "    :param p_image: the image that will be filtered as a numpy array (either bi or tridimensional)\n",
    "    :param p_filter: the filter that will be applied to the image. Consists in a 2D numpy array.\n",
    "    :param p_numprocessors: the number of proccessor available to maximize the performance. Integer.\n",
    "    :param p_shared_space:  the pre-initialization of the shared vector containing the result of the filter.\n",
    "                            Shared memory vector.\n",
    "\n",
    "    :return: the result of this vector will be stored into the shared memory, so no output is needed to be specified.\n",
    "\n",
    "    '''\n",
    "    # size contains the dimmensions of the filter been used -> determines the filter function being used\n",
    "    size = p_filter.shape\n",
    "\n",
    "    # Then the identification of the filter and its implementation is done. According to the nature of the filter, the\n",
    "    # pool will be initialized with a different function which contains the different filters.\n",
    "\n",
    "    rows = range(p_image.shape[0])\n",
    "\n",
    "    if len(size) == 1:          # row-shaped filter\n",
    "        with mp.Pool(processes=p_numprocessors, initializer=pool_init,\n",
    "                     initargs=[p_shared_space, p_image, p_filter]) as p:\n",
    "            p.map(rowed_filter, rows)\n",
    "    elif size[0] > size[1]:     # column-shaped filter\n",
    "        with mp.Pool(processes=p_numprocessors, initializer=pool_init,\n",
    "                     initargs=[p_shared_space, p_image, p_filter]) as p:\n",
    "            p.map(columned_filter, rows)\n",
    "    else:                       # square-shaped filter\n",
    "        with mp.Pool(processes=p_numprocessors, initializer=pool_init,\n",
    "                     initargs=[p_shared_space, p_image, p_filter]) as p:\n",
    "            p.map(squared_filter, rows)"
   ]
  },
  {
   "cell_type": "markdown",
   "metadata": {},
   "source": [
    "In order to properly work within the Pool modules, an additional function was used in order to define all the needed global variables, which were introduced into image_filter as parameters, but would not do so inside the Pool. This function, called @pool_init( ... ) consists in the following: "
   ]
  },
  {
   "cell_type": "code",
   "execution_count": null,
   "metadata": {},
   "outputs": [],
   "source": [
    "# Do not need to be defined, as it will not be called from here. \n",
    "\n",
    "def pool_init(shared_array_, srcimg, imgfilter):\n",
    "    '''\n",
    "    This function initializes the global shared memory data whithin each Pool environment. \n",
    "\n",
    "    :param shared_array_: is the shared read/write data, with lock. It is a vector (because the shared\n",
    "                          memory should be allocated as a vector\n",
    "    :param srcimg: is the original image\n",
    "    :param imgfilter: is the filter which will be applied to the image and store the results in the shared memory array\n",
    "\n",
    "    :return: It will initialize all the required shared variables, including shared_matrix, were the results of the\n",
    "             different rows being filtered will be stored\n",
    "    '''\n",
    "\n",
    "    # We define the local process memory reference for shared memory space\n",
    "    global shared_space\n",
    "    # Here we define the numpy matrix handler\n",
    "    global shared_matrix\n",
    "\n",
    "    # Here, we will define the readonly memory data as global (the scope of this global variables\n",
    "    # is the local module)\n",
    "    global image\n",
    "    global my_filter\n",
    "\n",
    "    # here, we initialize the global read only memory data\n",
    "    image = srcimg\n",
    "    my_filter = imgfilter\n",
    "    size = image.shape\n",
    "\n",
    "    # Assign the shared memory  to the local reference\n",
    "    shared_space = shared_array_\n",
    "    # Defines the numpy matrix reference to handle data, which will uses the shared memory buffer\n",
    "    shared_matrix = tonumpyarray(shared_space).reshape(size)\n"
   ]
  },
  {
   "cell_type": "markdown",
   "metadata": {},
   "source": [
    "Next, a simple function for the dot product was created, as it was considered useful for the following computations."
   ]
  },
  {
   "cell_type": "code",
   "execution_count": null,
   "metadata": {},
   "outputs": [],
   "source": [
    "# Do not need to be defined, as it will not be called from here. \n",
    "\n",
    "def dp(x, y):\n",
    "    '''\n",
    "    This functions computes the dot product between two vectors (they MUST be the same length)\n",
    "\n",
    "    :param x: the first one of the vectors\n",
    "    :param y: second vector\n",
    "\n",
    "    :return: dot product of them both (float)\n",
    "    '''\n",
    "    r = 0\n",
    "    for i in range(len(x)):\n",
    "        r += float(x[i] * y[i])\n",
    "    return r"
   ]
  },
  {
   "cell_type": "markdown",
   "metadata": {},
   "source": [
    "# AFTER THIS CELL YOU HAVE TO WRITE YOUR CODE\n",
    "\n",
    "After this cell you have to use the preloaded image defined in the F_IMAGE variable, select two of the 5 filter predefined, and using the NUMPROCESS processors, apply the filters to the image and check results.\n",
    "\n",
    "* The first filter is impulse response filter (the image output must be equals to the original one).\n",
    "* The second filter is an edge filter, first order in x axis,  \n",
    "* The third filter is an edge filter, first order in y axis,\n",
    "* the fourth filter is an edge filter, second order, bi-directional\n",
    "* the fifth filter is a blur gausian filter."
   ]
  },
  {
   "cell_type": "code",
   "execution_count": null,
   "metadata": {},
   "outputs": [],
   "source": []
  },
  {
   "cell_type": "markdown",
   "metadata": {},
   "source": [
    "Just for me to try Andy, I will check if the code works with the images chess and digits (smaller ones), that will be included in this repository, and the different filters to see if everything is okay or not. "
   ]
  },
  {
   "cell_type": "code",
   "execution_count": 9,
   "metadata": {},
   "outputs": [
    {
     "name": "stdout",
     "output_type": "stream",
     "text": [
      "4\n"
     ]
    }
   ],
   "source": [
    "numprocessors= int(mp.cpu_count()/2)\n",
    "print(numprocessors)\n",
    "filters_execution(image1,filter1,filter2,numprocessors,shared_space1,shared_space2)"
   ]
  },
  {
   "cell_type": "code",
   "execution_count": null,
   "metadata": {},
   "outputs": [],
   "source": []
  },
  {
   "cell_type": "markdown",
   "metadata": {},
   "source": [
    "# Visualization\n",
    "In this last cells we take the filtered images stored in the multiprocessing.Vector variables filtered_image1_VECTOR and filtered_image2_VECTOR, converts to numpy array, with the same shape of the orginal images, and show the results."
   ]
  },
  {
   "cell_type": "code",
   "execution_count": 10,
   "metadata": {},
   "outputs": [],
   "source": [
    "filtered_image1=tonumpyarray(shared_space1).reshape(image1.shape)\n",
    "filtered_image2=tonumpyarray(shared_space2).reshape(image2.shape)"
   ]
  },
  {
   "cell_type": "code",
   "execution_count": 11,
   "metadata": {},
   "outputs": [
    {
     "data": {
      "text/plain": [
       "<matplotlib.image.AxesImage at 0x1f2132c6c40>"
      ]
     },
     "execution_count": 11,
     "metadata": {},
     "output_type": "execute_result"
    },
    {
     "data": {
      "image/png": "[encoded data removed]",
      "text/plain": [
       "<Figure size 432x288 with 1 Axes>"
      ]
     },
     "metadata": {
      "needs_background": "light"
     },
     "output_type": "display_data"
    }
   ],
   "source": [
    "plt.figure()\n",
    "plt.imshow(filtered_image1)"
   ]
  },
  {
   "cell_type": "code",
   "execution_count": 12,
   "metadata": {},
   "outputs": [
    {
     "data": {
      "text/plain": [
       "<matplotlib.image.AxesImage at 0x1f21335daf0>"
      ]
     },
     "execution_count": 12,
     "metadata": {},
     "output_type": "execute_result"
    },
    {
     "data": {
      "image/png": "[encoded data removed]",
      "text/plain": [
       "<Figure size 432x288 with 1 Axes>"
      ]
     },
     "metadata": {
      "needs_background": "light"
     },
     "output_type": "display_data"
    }
   ],
   "source": [
    "plt.figure()\n",
    "plt.imshow(filtered_image2)"
   ]
  },
  {
   "cell_type": "code",
   "execution_count": null,
   "metadata": {},
   "outputs": [],
   "source": []
  }
 ],
 "metadata": {
  "kernelspec": {
   "display_name": "Python 3",
   "language": "python",
   "name": "python3"
  },
  "language_info": {
   "codemirror_mode": {
    "name": "ipython",
    "version": 3
   },
   "file_extension": ".py",
   "mimetype": "text/x-python",
   "name": "python",
   "nbconvert_exporter": "python",
   "pygments_lexer": "ipython3",
   "version": "3.8.8"
  }
 },
 "nbformat": 4,
 "nbformat_minor": 4
}
